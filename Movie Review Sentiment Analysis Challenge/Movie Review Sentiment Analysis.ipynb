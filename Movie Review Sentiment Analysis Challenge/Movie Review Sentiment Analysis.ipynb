{
 "cells": [
  {
   "cell_type": "code",
   "execution_count": null,
   "metadata": {
    "_uuid": "7b1c78b6882f64526c086ff41a01c722b043fa58",
    "collapsed": true
   },
   "outputs": [],
   "source": [
    "import pandas as pd\n",
    "import numpy as np\n",
    "from sklearn.preprocessing import OneHotEncoder\n",
    "\n",
    "import keras \n",
    "from keras.preprocessing.text import Tokenizer\n",
    "from keras.preprocessing.sequence import pad_sequences\n",
    "from keras.layers import Dense, Input, LSTM, Embedding, Dropout, Activation, Conv1D, GRU\n",
    "from keras.layers import Bidirectional, GlobalMaxPool1D, MaxPooling1D, Add, Flatten\n",
    "from keras.layers import GlobalAveragePooling1D, GlobalMaxPooling1D, concatenate, SpatialDropout1D, BatchNormalization\n",
    "from keras.models import Model, load_model\n",
    "from keras import initializers, regularizers, constraints, optimizers, layers, callbacks\n",
    "from keras import backend as K\n",
    "from keras.engine import InputSpec, Layer\n",
    "from keras.optimizers import Adam, RMSprop\n",
    "\n",
    "from keras.callbacks import Callback, EarlyStopping, ModelCheckpoint, LearningRateScheduler"
   ]
  },
  {
   "cell_type": "code",
   "execution_count": null,
   "metadata": {
    "_cell_guid": "79c7e3d0-c299-4dcb-8224-4455121ee9b0",
    "_uuid": "d629ff2d2480ee46fbb7e2d37f6b5fab8052498a",
    "collapsed": true
   },
   "outputs": [],
   "source": [
    "train = pd.read_csv('../input/movie-review-sentiment-analysis-kernels-only/train.tsv', sep=\"\\t\")\n",
    "test = pd.read_csv('../input/movie-review-sentiment-analysis-kernels-only/test.tsv', sep=\"\\t\")\n",
    "sub = pd.read_csv('../input/movie-review-sentiment-analysis-kernels-only/sampleSubmission.csv', sep=\",\")"
   ]
  },
  {
   "cell_type": "code",
   "execution_count": null,
   "metadata": {
    "_uuid": "b23e7fc3b5d3617c3a921aadc5cb03bf9fcee627",
    "collapsed": true
   },
   "outputs": [],
   "source": [
    "train.head(10)"
   ]
  },
  {
   "cell_type": "code",
   "execution_count": null,
   "metadata": {
    "_uuid": "8b7fcc69503f4dba66fdc0caf3e4d82fdb977454",
    "collapsed": true
   },
   "outputs": [],
   "source": [
    "test.head(10)"
   ]
  },
  {
   "cell_type": "code",
   "execution_count": null,
   "metadata": {
    "_uuid": "83002e021f918914f59b7f447c309be6f2289b5a",
    "collapsed": true
   },
   "outputs": [],
   "source": [
    "sub.head(10)"
   ]
  },
  {
   "cell_type": "code",
   "execution_count": null,
   "metadata": {
    "_uuid": "8054eaef03f61894d35317fc364847bf69c92136",
    "collapsed": true
   },
   "outputs": [],
   "source": [
    "full_text = list(train['Phrase'].values) + list(test['Phrase'].values)\n",
    "\n",
    "tokenizer = Tokenizer(lower = True, filters = '')\n",
    "tokenizer.fit_on_texts(full_text)"
   ]
  },
  {
   "cell_type": "code",
   "execution_count": null,
   "metadata": {
    "_uuid": "b5ef30417353846f71bc24f466449e41e6d2a1c5",
    "collapsed": true
   },
   "outputs": [],
   "source": [
    "tokenizer.word_index"
   ]
  },
  {
   "cell_type": "code",
   "execution_count": null,
   "metadata": {
    "_uuid": "b378ccb1f7c857b744e5de2ca7c11918db60902b",
    "collapsed": true
   },
   "outputs": [],
   "source": [
    "train_tokenized = tokenizer.texts_to_sequences(train['Phrase'])\n",
    "test_tokenized = tokenizer.texts_to_sequences(test['Phrase'])"
   ]
  },
  {
   "cell_type": "code",
   "execution_count": null,
   "metadata": {
    "_uuid": "911f2f022ecee849353246fcd913404109a2d694",
    "collapsed": true
   },
   "outputs": [],
   "source": [
    "max_len = 50\n",
    "X_train = pad_sequences(train_tokenized, maxlen = max_len)\n",
    "X_test = pad_sequences(test_tokenized, maxlen = max_len)"
   ]
  },
  {
   "cell_type": "code",
   "execution_count": null,
   "metadata": {
    "_uuid": "95f1c2aba1d9735cbf6d2e32230d2b72b71637f8",
    "collapsed": true
   },
   "outputs": [],
   "source": [
    "print(X_train)"
   ]
  },
  {
   "cell_type": "code",
   "execution_count": null,
   "metadata": {
    "_uuid": "3fedb59e2dab4dddebccacb7a7e909df4a2d9156",
    "collapsed": true
   },
   "outputs": [],
   "source": [
    "print(X_test)"
   ]
  },
  {
   "cell_type": "code",
   "execution_count": null,
   "metadata": {
    "_uuid": "8cdb2e9ecdd4bf4bf9d469c79d024eac075b04ca",
    "collapsed": true
   },
   "outputs": [],
   "source": [
    "embed_size = 300\n",
    "max_features = 20000"
   ]
  },
  {
   "cell_type": "code",
   "execution_count": null,
   "metadata": {
    "_uuid": "f8640bc847e9d101672d6428f6c567ae25202c9a",
    "collapsed": true
   },
   "outputs": [],
   "source": [
    "def get_coefs(word,*arr):\n",
    "    return word, np.asarray(arr, dtype='float32')"
   ]
  },
  {
   "cell_type": "code",
   "execution_count": null,
   "metadata": {
    "_uuid": "e65edaa2c8efcd6e4fbc75891d93956c9fafea1d",
    "collapsed": true
   },
   "outputs": [],
   "source": [
    "def get_embed_mat(embedding_path):\n",
    "    \n",
    "    embedding_index = dict(get_coefs(*o.strip().split(\" \")) for o in open(embedding_path))\n",
    "\n",
    "    word_index = tokenizer.word_index\n",
    "    nb_words = min(max_features, len(word_index))\n",
    "    embedding_matrix = np.zeros((nb_words + 1, embed_size))\n",
    "    for word, i in word_index.items():\n",
    "        if i >= max_features:\n",
    "            continue\n",
    "        embedding_vector = embedding_index.get(word)\n",
    "        if embedding_vector is not None:\n",
    "            embedding_matrix[i] = embedding_vector\n",
    "        \n",
    "    return embedding_matrix"
   ]
  },
  {
   "cell_type": "code",
   "execution_count": null,
   "metadata": {
    "_uuid": "7ba991fb5f6c0021caff10253fca6bb4a58f9c6b",
    "collapsed": true
   },
   "outputs": [],
   "source": [
    "y = train['Sentiment']\n",
    "\n",
    "one_hot_encoder = OneHotEncoder(sparse=False)\n",
    "y_one_hot = one_hot_encoder.fit_transform(y.values.reshape(-1, 1))"
   ]
  },
  {
   "cell_type": "code",
   "execution_count": null,
   "metadata": {
    "_uuid": "43f761676abc1ffaf55c0a2e3413889a7d148625",
    "collapsed": true
   },
   "outputs": [],
   "source": [
    "file_path = \"model.hdf5\"\n",
    "check_point = ModelCheckpoint(file_path, monitor = \"val_loss\", verbose = 1,\n",
    "                              save_best_only = True, mode = \"min\")\n",
    "early_stop = EarlyStopping(monitor = \"val_loss\", mode = \"min\", patience = 5)"
   ]
  },
  {
   "cell_type": "code",
   "execution_count": null,
   "metadata": {
    "_uuid": "d2633848dbbacc28a81256076fbe12cc1d021c4b",
    "collapsed": true
   },
   "outputs": [],
   "source": [
    "def rnn_model(emb_input, embedding_matrix):\n",
    "    \n",
    "    input_layer = Input(shape = (max_len,))\n",
    "    x = Embedding(emb_input, embed_size, weights = [embedding_matrix], trainable = False)(input_layer)\n",
    "    x1 = SpatialDropout1D(0.2)(x)\n",
    "    \n",
    "    x = Bidirectional(GRU(128, return_sequences = True))(x1)\n",
    "    x = Bidirectional(GRU(128, return_sequences = True))(x)\n",
    "    x = Conv1D(64, kernel_size = 2, padding = \"valid\", kernel_initializer = \"he_uniform\")(x)\n",
    "    \n",
    "    y = Bidirectional(LSTM(128, return_sequences = True))(x1)\n",
    "    y = Bidirectional(LSTM(128, return_sequences = True))(y)\n",
    "    y = Conv1D(64, kernel_size = 2, padding = \"valid\", kernel_initializer = \"he_uniform\")(y)\n",
    "    \n",
    "    avg_pool1 = GlobalAveragePooling1D()(x)\n",
    "    max_pool1 = GlobalMaxPooling1D()(x)\n",
    "    \n",
    "    avg_pool2 = GlobalAveragePooling1D()(y)\n",
    "    max_pool2 = GlobalMaxPooling1D()(y)\n",
    "    \n",
    "    x = concatenate([avg_pool1, max_pool1, avg_pool2, max_pool2])\n",
    "    x = BatchNormalization()(x)\n",
    "    x = Dropout(0.1)(Dense(128,activation='relu') (x))\n",
    "    x = Dense(5, activation = \"sigmoid\")(x)\n",
    "    model = Model(inputs = input_layer, outputs = x)\n",
    "    model.compile(loss = \"binary_crossentropy\", optimizer = Adam(lr = 0.001, decay = 0), metrics = [\"accuracy\"])\n",
    "    history = model.fit(X_train, y_one_hot, batch_size = 128, epochs = 10, validation_split=0.1, \n",
    "                        verbose = 1, callbacks = [check_point, early_stop])\n",
    "    model = load_model(file_path)\n",
    "    return model\n",
    "    "
   ]
  },
  {
   "cell_type": "code",
   "execution_count": null,
   "metadata": {
    "_uuid": "4a917852fbe6ef0455d5c5a073147e3b974889fd",
    "collapsed": true
   },
   "outputs": [],
   "source": [
    "embedding_path = \"../input/fasttext-crawl-300d-2m/crawl-300d-2M.vec\""
   ]
  },
  {
   "cell_type": "code",
   "execution_count": null,
   "metadata": {
    "_uuid": "b978aad9deec5cbcce200fb5d0e78bfa2a7ef7c1",
    "collapsed": true
   },
   "outputs": [],
   "source": [
    "embedding_matrix = get_embed_mat(embedding_path)"
   ]
  },
  {
   "cell_type": "code",
   "execution_count": null,
   "metadata": {
    "_uuid": "e693e248c60b8e683107b6e1dc04bd0c9ec2764c",
    "collapsed": true
   },
   "outputs": [],
   "source": [
    "emb_input = embedding_matrix.shape[0]"
   ]
  },
  {
   "cell_type": "code",
   "execution_count": null,
   "metadata": {
    "_uuid": "8c257a3af5ae0c58e297102b057dd8a5feaab45c",
    "collapsed": true
   },
   "outputs": [],
   "source": [
    "model = rnn_model(emb_input, embedding_matrix)"
   ]
  },
  {
   "cell_type": "code",
   "execution_count": null,
   "metadata": {
    "_uuid": "dc45a77bd085be90c5a6304c821b0793aa265221",
    "collapsed": true
   },
   "outputs": [],
   "source": [
    "pred = model.predict(X_test, batch_size = 1024, verbose = 1)"
   ]
  },
  {
   "cell_type": "code",
   "execution_count": null,
   "metadata": {
    "_uuid": "e357047f872e67778c2ee457c7222e2cc4efba6a",
    "collapsed": true
   },
   "outputs": [],
   "source": [
    "predictions = np.round(np.argmax(pred, axis=1)).astype(int)"
   ]
  },
  {
   "cell_type": "code",
   "execution_count": null,
   "metadata": {
    "_uuid": "60d34df470ac9519472b4f1930369bf96ef046e9",
    "collapsed": true
   },
   "outputs": [],
   "source": [
    "sub['Sentiment'] = np.round(predictions).astype(int)\n",
    "sub.to_csv(\"output.csv\", index=False)"
   ]
  },
  {
   "cell_type": "code",
   "execution_count": null,
   "metadata": {
    "_uuid": "978365fac18f0565615c7d4f1ffc22bf697e7543",
    "collapsed": true
   },
   "outputs": [],
   "source": []
  }
 ],
 "metadata": {
  "kernelspec": {
   "display_name": "Python 3",
   "language": "python",
   "name": "python3"
  },
  "language_info": {
   "codemirror_mode": {
    "name": "ipython",
    "version": 3
   },
   "file_extension": ".py",
   "mimetype": "text/x-python",
   "name": "python",
   "nbconvert_exporter": "python",
   "pygments_lexer": "ipython3",
   "version": "3.6.2"
  }
 },
 "nbformat": 4,
 "nbformat_minor": 1
}

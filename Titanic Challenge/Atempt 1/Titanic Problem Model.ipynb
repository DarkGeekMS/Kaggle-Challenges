{
 "cells": [
  {
   "cell_type": "code",
   "execution_count": 2,
   "metadata": {
    "collapsed": false
   },
   "outputs": [],
   "source": [
    "import sklearn.linear_model as sk\n",
    "import sklearn\n",
    "from sklearn import svm\n",
    "import numpy as np\n",
    "import pandas as pd"
   ]
  },
  {
   "cell_type": "code",
   "execution_count": 3,
   "metadata": {
    "collapsed": false
   },
   "outputs": [],
   "source": [
    "input_file = \"train.csv\""
   ]
  },
  {
   "cell_type": "code",
   "execution_count": 4,
   "metadata": {
    "collapsed": false
   },
   "outputs": [
    {
     "name": "stdout",
     "output_type": "stream",
     "text": [
      "     PassengerId  Survived  Pclass  Sex   Age  SibSp  Parch      Fare\n",
      "0              1         0       3    1  22.0      1      0    7.2500\n",
      "1              2         1       1    0  38.0      1      0   71.2833\n",
      "2              3         1       3    0  26.0      0      0    7.9250\n",
      "3              4         1       1    0  35.0      1      0   53.1000\n",
      "4              5         0       3    1  35.0      0      0    8.0500\n",
      "5              6         0       3    1  28.0      0      0    8.4583\n",
      "6              7         0       1    1  54.0      0      0   51.8625\n",
      "7              8         0       3    1   2.0      3      1   21.0750\n",
      "8              9         1       3    0  27.0      0      2   11.1333\n",
      "9             10         1       2    0  14.0      1      0   30.0708\n",
      "10            11         1       3    0   4.0      1      1   16.7000\n",
      "11            12         1       1    0  58.0      0      0   26.5500\n",
      "12            13         0       3    1  20.0      0      0    8.0500\n",
      "13            14         0       3    1  39.0      1      5   31.2750\n",
      "14            15         0       3    0  14.0      0      0    7.8542\n",
      "15            16         1       2    0  55.0      0      0   16.0000\n",
      "16            17         0       3    1   2.0      4      1   29.1250\n",
      "17            18         1       2    1  28.0      0      0   13.0000\n",
      "18            19         0       3    0  31.0      1      0   18.0000\n",
      "19            20         1       3    0  28.0      0      0    7.2250\n",
      "20            21         0       2    1  35.0      0      0   26.0000\n",
      "21            22         1       2    1  34.0      0      0   13.0000\n",
      "22            23         1       3    0  15.0      0      0    8.0292\n",
      "23            24         1       1    1  28.0      0      0   35.5000\n",
      "24            25         0       3    0   8.0      3      1   21.0750\n",
      "25            26         1       3    0  38.0      1      5   31.3875\n",
      "26            27         0       3    1  28.0      0      0    7.2250\n",
      "27            28         0       1    1  19.0      3      2  263.0000\n",
      "28            29         1       3    0  28.0      0      0    7.8792\n",
      "29            30         0       3    1  28.0      0      0    7.8958\n",
      "..           ...       ...     ...  ...   ...    ...    ...       ...\n",
      "861          862         0       2    1  21.0      1      0   11.5000\n",
      "862          863         1       1    0  48.0      0      0   25.9292\n",
      "863          864         0       3    0  28.0      8      2   69.5500\n",
      "864          865         0       2    1  24.0      0      0   13.0000\n",
      "865          866         1       2    0  42.0      0      0   13.0000\n",
      "866          867         1       2    0  27.0      1      0   13.8583\n",
      "867          868         0       1    1  31.0      0      0   50.4958\n",
      "868          869         0       3    1  28.0      0      0    9.5000\n",
      "869          870         1       3    1   4.0      1      1   11.1333\n",
      "870          871         0       3    1  26.0      0      0    7.8958\n",
      "871          872         1       1    0  47.0      1      1   52.5542\n",
      "872          873         0       1    1  33.0      0      0    5.0000\n",
      "873          874         0       3    1  47.0      0      0    9.0000\n",
      "874          875         1       2    0  28.0      1      0   24.0000\n",
      "875          876         1       3    0  15.0      0      0    7.2250\n",
      "876          877         0       3    1  20.0      0      0    9.8458\n",
      "877          878         0       3    1  19.0      0      0    7.8958\n",
      "878          879         0       3    1  28.0      0      0    7.8958\n",
      "879          880         1       1    0  56.0      0      1   83.1583\n",
      "880          881         1       2    0  25.0      0      1   26.0000\n",
      "881          882         0       3    1  33.0      0      0    7.8958\n",
      "882          883         0       3    0  22.0      0      0   10.5167\n",
      "883          884         0       2    1  28.0      0      0   10.5000\n",
      "884          885         0       3    1  25.0      0      0    7.0500\n",
      "885          886         0       3    0  39.0      0      5   29.1250\n",
      "886          887         0       2    1  27.0      0      0   13.0000\n",
      "887          888         1       1    0  19.0      0      0   30.0000\n",
      "888          889         0       3    0  28.0      1      2   23.4500\n",
      "889          890         1       1    1  26.0      0      0   30.0000\n",
      "890          891         0       3    1  32.0      0      0    7.7500\n",
      "\n",
      "[891 rows x 8 columns]\n"
     ]
    }
   ],
   "source": [
    "# comma delimited is the default\n",
    "dfi = pd.read_csv(input_file, header = 0)\n",
    "\n",
    "# consider the sex feature\n",
    "dfi['Sex'] = dfi['Sex'].apply(lambda x: 0 if x == 'female' else  1)\n",
    "\n",
    "# Drop Missing Data\n",
    "#dfi = dfi.dropna()\n",
    "dfi[\"Age\"].fillna(dfi[\"Age\"].median(), inplace=True)\n",
    "\n",
    "# remove the non-numeric columns\n",
    "dfi = dfi._get_numeric_data()\n",
    "print(dfi)\n",
    "\n",
    "# get labels\n",
    "y = dfi['Survived']\n",
    "dfi = dfi.drop('Survived' , 1)\n",
    "\n",
    "# put the numeric column names in a python list\n",
    "numeric_headersi = list(dfi.columns.values)\n",
    "\n",
    "# create a numpy array with the numeric values for input into scikit-learn\n",
    "xi = dfi.as_matrix()\n",
    "yi = y.as_matrix()\n",
    "\n",
    "# write the reverse_df to an excel spreadsheet\n",
    "dfi.to_excel('path_to_file1.xls')"
   ]
  },
  {
   "cell_type": "code",
   "execution_count": 5,
   "metadata": {
    "collapsed": false
   },
   "outputs": [
    {
     "name": "stdout",
     "output_type": "stream",
     "text": [
      "[[   1.        3.        1.     ...,    1.        0.        7.25  ]\n",
      " [   2.        1.        0.     ...,    1.        0.       71.2833]\n",
      " [   3.        3.        0.     ...,    0.        0.        7.925 ]\n",
      " ..., \n",
      " [ 889.        3.        0.     ...,    1.        2.       23.45  ]\n",
      " [ 890.        1.        1.     ...,    0.        0.       30.    ]\n",
      " [ 891.        3.        1.     ...,    0.        0.        7.75  ]]\n"
     ]
    }
   ],
   "source": [
    "print(xi)"
   ]
  },
  {
   "cell_type": "code",
   "execution_count": 6,
   "metadata": {
    "collapsed": false
   },
   "outputs": [],
   "source": [
    "lr = sk.LogisticRegression\n",
    "model = lr().fit(xi, yi)"
   ]
  },
  {
   "cell_type": "code",
   "execution_count": 7,
   "metadata": {
    "collapsed": true
   },
   "outputs": [],
   "source": [
    "output_file = \"test.csv\""
   ]
  },
  {
   "cell_type": "code",
   "execution_count": 8,
   "metadata": {
    "collapsed": false
   },
   "outputs": [
    {
     "name": "stdout",
     "output_type": "stream",
     "text": [
      "     PassengerId  Pclass  Sex   Age  SibSp  Parch      Fare\n",
      "0            892       3    1  34.5      0      0    7.8292\n",
      "1            893       3    0  47.0      1      0    7.0000\n",
      "2            894       2    1  62.0      0      0    9.6875\n",
      "3            895       3    1  27.0      0      0    8.6625\n",
      "4            896       3    0  22.0      1      1   12.2875\n",
      "5            897       3    1  14.0      0      0    9.2250\n",
      "6            898       3    0  30.0      0      0    7.6292\n",
      "7            899       2    1  26.0      1      1   29.0000\n",
      "8            900       3    0  18.0      0      0    7.2292\n",
      "9            901       3    1  21.0      2      0   24.1500\n",
      "10           902       3    1   2.0      0      0    7.8958\n",
      "11           903       1    1  46.0      0      0   26.0000\n",
      "12           904       1    0  23.0      1      0   82.2667\n",
      "13           905       2    1  63.0      1      0   26.0000\n",
      "14           906       1    0  47.0      1      0   61.1750\n",
      "15           907       2    0  24.0      1      0   27.7208\n",
      "16           908       2    1  35.0      0      0   12.3500\n",
      "17           909       3    1  21.0      0      0    7.2250\n",
      "18           910       3    0  27.0      1      0    7.9250\n",
      "19           911       3    0  45.0      0      0    7.2250\n",
      "20           912       1    1  55.0      1      0   59.4000\n",
      "21           913       3    1   9.0      0      1    3.1708\n",
      "22           914       1    0   0.5      0      0   31.6833\n",
      "23           915       1    1  21.0      0      1   61.3792\n",
      "24           916       1    0  48.0      1      3  262.3750\n",
      "25           917       3    1  50.0      1      0   14.5000\n",
      "26           918       1    0  22.0      0      1   61.9792\n",
      "27           919       3    1  22.5      0      0    7.2250\n",
      "28           920       1    1  41.0      0      0   30.5000\n",
      "29           921       3    1   2.5      2      0   21.6792\n",
      "..           ...     ...  ...   ...    ...    ...       ...\n",
      "388         1280       3    1  21.0      0      0    7.7500\n",
      "389         1281       3    1   6.0      3      1   21.0750\n",
      "390         1282       1    1  23.0      0      0   93.5000\n",
      "391         1283       1    0  51.0      0      1   39.4000\n",
      "392         1284       3    1  13.0      0      2   20.2500\n",
      "393         1285       2    1  47.0      0      0   10.5000\n",
      "394         1286       3    1  29.0      3      1   22.0250\n",
      "395         1287       1    0  18.0      1      0   60.0000\n",
      "396         1288       3    1  24.0      0      0    7.2500\n",
      "397         1289       1    0  48.0      1      1   79.2000\n",
      "398         1290       3    1  22.0      0      0    7.7750\n",
      "399         1291       3    1  31.0      0      0    7.7333\n",
      "400         1292       1    0  30.0      0      0  164.8667\n",
      "401         1293       2    1  38.0      1      0   21.0000\n",
      "402         1294       1    0  22.0      0      1   59.4000\n",
      "403         1295       1    1  17.0      0      0   47.1000\n",
      "404         1296       1    1  43.0      1      0   27.7208\n",
      "405         1297       2    1  20.0      0      0   13.8625\n",
      "406         1298       2    1  23.0      1      0   10.5000\n",
      "407         1299       1    1  50.0      1      1  211.5000\n",
      "408         1300       3    0   1.5      0      0    7.7208\n",
      "409         1301       3    0   3.0      1      1   13.7750\n",
      "410         1302       3    0   1.5      0      0    7.7500\n",
      "411         1303       1    0  37.0      1      0   90.0000\n",
      "412         1304       3    0  28.0      0      0    7.7750\n",
      "413         1305       3    1   2.0      0      0    8.0500\n",
      "414         1306       1    0  39.0      0      0  108.9000\n",
      "415         1307       3    1  38.5      0      0    7.2500\n",
      "416         1308       3    1   2.0      0      0    8.0500\n",
      "417         1309       3    1   2.0      1      1   22.3583\n",
      "\n",
      "[418 rows x 7 columns]\n"
     ]
    }
   ],
   "source": [
    "# comma delimited is the default\n",
    "dfo = pd.read_csv(output_file, header = 0)\n",
    "\n",
    "# consider the sex feature\n",
    "dfo['Sex'] = dfo['Sex'].apply(lambda x: 0 if x == 'female' else  1)\n",
    "\n",
    "# Considering the age\n",
    "dfo[\"Age\"].fillna(dfo.median(axis = 1), inplace=True)\n",
    "\n",
    "# remove the non-numeric columns\n",
    "dfo = dfo._get_numeric_data()\n",
    "print(dfo)\n",
    "\n",
    "# put the numeric column names in a python list\n",
    "numeric_headerso = list(dfo.columns.values)\n",
    "\n",
    "# create a numpy array with the numeric values for input into scikit-learn\n",
    "xo = dfo.as_matrix()\n",
    "xo = xo.astype(int)\n",
    "xo = xo.astype(float)\n",
    "\n",
    "# write the reverse_df to an excel spreadsheet\n",
    "dfo.to_excel('path_to_file2.xls')"
   ]
  },
  {
   "cell_type": "code",
   "execution_count": 9,
   "metadata": {
    "collapsed": false
   },
   "outputs": [
    {
     "name": "stdout",
     "output_type": "stream",
     "text": [
      "[[  8.92000000e+02   3.00000000e+00   1.00000000e+00 ...,   0.00000000e+00\n",
      "    0.00000000e+00   7.00000000e+00]\n",
      " [  8.93000000e+02   3.00000000e+00   0.00000000e+00 ...,   1.00000000e+00\n",
      "    0.00000000e+00   7.00000000e+00]\n",
      " [  8.94000000e+02   2.00000000e+00   1.00000000e+00 ...,   0.00000000e+00\n",
      "    0.00000000e+00   9.00000000e+00]\n",
      " ..., \n",
      " [  1.30700000e+03   3.00000000e+00   1.00000000e+00 ...,   0.00000000e+00\n",
      "    0.00000000e+00   7.00000000e+00]\n",
      " [  1.30800000e+03   3.00000000e+00   1.00000000e+00 ...,   0.00000000e+00\n",
      "    0.00000000e+00   8.00000000e+00]\n",
      " [  1.30900000e+03   3.00000000e+00   1.00000000e+00 ...,   1.00000000e+00\n",
      "    1.00000000e+00   2.20000000e+01]]\n"
     ]
    }
   ],
   "source": [
    "print(xo)"
   ]
  },
  {
   "cell_type": "code",
   "execution_count": 10,
   "metadata": {
    "collapsed": false
   },
   "outputs": [],
   "source": [
    "predictions = model.predict(xo)"
   ]
  },
  {
   "cell_type": "code",
   "execution_count": 11,
   "metadata": {
    "collapsed": false
   },
   "outputs": [
    {
     "name": "stdout",
     "output_type": "stream",
     "text": [
      "[0 0 0 0 1 0 1 0 1 0 0 0 1 0 1 1 0 0 1 1 0 0 1 1 1 0 1 0 0 0 0 0 1 1 0 0 1\n",
      " 1 0 0 0 1 0 1 1 0 0 0 1 1 0 0 1 1 0 0 0 0 0 1 0 0 0 1 1 1 1 0 0 1 1 0 1 0\n",
      " 1 1 0 1 0 1 0 0 0 0 0 0 1 1 1 0 1 0 1 0 1 0 1 0 1 0 1 0 0 0 1 0 0 0 0 0 0\n",
      " 1 1 1 1 0 0 1 0 1 1 0 1 0 0 1 0 1 0 0 0 0 1 0 0 0 0 0 1 0 0 1 0 0 0 0 1 0\n",
      " 1 0 1 0 0 1 0 0 1 1 0 1 1 0 1 0 0 1 0 0 1 1 0 0 0 0 0 1 1 0 1 1 0 0 1 0 1\n",
      " 0 1 0 0 0 0 1 0 0 0 0 1 1 0 1 1 0 1 1 0 1 1 0 1 0 0 0 0 1 0 0 1 0 1 0 1 0\n",
      " 1 0 1 1 0 1 0 0 0 1 0 0 0 0 0 0 1 1 1 1 0 0 0 0 1 0 1 1 1 0 1 0 0 0 0 0 1\n",
      " 0 0 0 1 1 0 0 1 0 1 0 0 0 1 1 0 1 0 0 0 0 1 0 1 1 1 0 0 1 0 0 1 1 0 0 0 0\n",
      " 1 0 1 0 0 0 0 0 1 1 1 0 0 0 0 0 0 1 1 1 0 0 0 0 0 0 0 0 1 0 1 0 0 0 1 0 0\n",
      " 1 0 0 0 0 0 0 0 0 0 1 0 1 0 1 0 1 1 0 0 0 1 0 1 0 0 1 0 1 1 0 1 1 0 1 1 0\n",
      " 0 1 0 0 1 1 1 0 0 0 0 0 1 1 0 1 0 0 0 0 1 1 0 0 0 1 0 1 0 0 1 0 1 1 0 0 0\n",
      " 0 1 1 1 1 1 0 1 0 0 0]\n"
     ]
    }
   ],
   "source": [
    "print(predictions)"
   ]
  },
  {
   "cell_type": "code",
   "execution_count": 12,
   "metadata": {
    "collapsed": true
   },
   "outputs": [],
   "source": [
    "result = open('My Results.txt' , 'w')"
   ]
  },
  {
   "cell_type": "code",
   "execution_count": 13,
   "metadata": {
    "collapsed": false
   },
   "outputs": [],
   "source": [
    "for i in predictions:\n",
    "    result.write(str(i)+'\\n')\n",
    "result.close()    "
   ]
  },
  {
   "cell_type": "code",
   "execution_count": 14,
   "metadata": {
    "collapsed": false
   },
   "outputs": [
    {
     "name": "stdout",
     "output_type": "stream",
     "text": [
      "[0 1 0 0 1 0 1 0 1 0 0 0 1 0 1 1 0 0 1 1 0 0 1 0 1 0 1 0 0 0 0 0 1 1 0 0 1\n",
      " 1 0 0 0 0 0 1 1 0 0 0 1 1 0 0 1 1 0 0 0 0 0 1 0 0 0 1 1 1 1 0 0 1 1 0 1 0\n",
      " 1 1 0 1 0 1 0 1 0 0 0 0 1 1 1 0 1 0 1 0 0 0 1 0 1 0 1 0 0 0 1 0 0 0 0 0 0\n",
      " 1 1 1 1 0 0 1 0 1 1 0 1 0 0 1 0 1 0 0 0 0 1 0 0 0 0 0 1 0 0 1 1 0 0 0 0 0\n",
      " 0 0 1 0 0 1 0 0 1 1 0 1 1 0 1 0 0 1 0 0 1 1 0 0 0 0 0 1 1 0 1 1 0 0 1 0 1\n",
      " 0 1 0 0 0 0 0 0 0 0 0 1 1 0 1 1 0 1 1 0 0 1 0 1 0 0 0 0 1 0 0 1 0 1 0 1 0\n",
      " 1 0 1 1 0 1 0 0 0 1 0 0 0 0 0 0 1 1 1 1 0 0 0 0 1 0 1 1 1 0 0 0 0 0 0 0 1\n",
      " 0 0 0 1 1 0 0 0 0 1 0 0 0 1 1 0 1 0 0 0 0 1 0 1 1 1 0 0 0 0 0 0 1 0 0 0 0\n",
      " 1 0 0 0 0 0 0 0 1 1 0 0 0 1 0 0 0 1 1 1 1 0 0 0 0 0 0 0 1 0 1 0 0 0 1 0 0\n",
      " 1 0 0 0 0 0 0 0 0 0 1 0 1 0 1 0 1 1 0 0 0 1 0 1 0 0 1 0 1 1 0 1 1 0 1 1 0\n",
      " 0 1 0 0 1 1 1 0 0 0 0 0 1 1 0 1 0 0 0 0 1 1 0 0 0 1 0 1 0 0 1 0 1 0 0 0 0\n",
      " 1 1 1 1 1 1 0 1 0 0 0]\n"
     ]
    }
   ],
   "source": [
    "tlabels = []\n",
    "truth = open('True Labels.txt' , 'r')\n",
    "for line in truth:\n",
    "    tlabels.append(int(line[0]))\n",
    "tlabels = np.array(tlabels)    \n",
    "print(tlabels)"
   ]
  },
  {
   "cell_type": "code",
   "execution_count": 15,
   "metadata": {
    "collapsed": false
   },
   "outputs": [
    {
     "data": {
      "text/plain": [
       "0.95215311004784686"
      ]
     },
     "execution_count": 15,
     "metadata": {},
     "output_type": "execute_result"
    }
   ],
   "source": [
    "sklearn.metrics.accuracy_score(tlabels , predictions)"
   ]
  },
  {
   "cell_type": "code",
   "execution_count": null,
   "metadata": {
    "collapsed": true
   },
   "outputs": [],
   "source": []
  }
 ],
 "metadata": {
  "anaconda-cloud": {},
  "kernelspec": {
   "display_name": "Python [default]",
   "language": "python",
   "name": "python3"
  },
  "language_info": {
   "codemirror_mode": {
    "name": "ipython",
    "version": 3
   },
   "file_extension": ".py",
   "mimetype": "text/x-python",
   "name": "python",
   "nbconvert_exporter": "python",
   "pygments_lexer": "ipython3",
   "version": "3.5.2"
  }
 },
 "nbformat": 4,
 "nbformat_minor": 1
}

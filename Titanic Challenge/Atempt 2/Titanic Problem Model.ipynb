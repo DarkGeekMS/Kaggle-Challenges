{
 "cells": [
  {
   "cell_type": "code",
   "execution_count": 158,
   "metadata": {
    "collapsed": true
   },
   "outputs": [],
   "source": [
    "import sklearn.linear_model as sk\n",
    "import sklearn\n",
    "import numpy as np\n",
    "import pandas as pd"
   ]
  },
  {
   "cell_type": "code",
   "execution_count": 159,
   "metadata": {
    "collapsed": true
   },
   "outputs": [],
   "source": [
    "input_file = \"train.csv\"\n",
    "output_file = \"test.csv\""
   ]
  },
  {
   "cell_type": "code",
   "execution_count": 160,
   "metadata": {},
   "outputs": [],
   "source": [
    "##Preparing Data.\n",
    "\n",
    "train = pd.read_csv(input_file, header = 0)\n",
    "test = pd.read_csv(output_file, header = 0)\n",
    "\n",
    "train['Sex'] = train['Sex'].apply(lambda x: 0 if x == 'female' else  1)\n",
    "test['Sex'] = test['Sex'].apply(lambda x: 0 if x == 'female' else  1)\n",
    "\n",
    "labels = train['Survived']\n",
    "train = train.drop('Survived' , 1)\n",
    "\n",
    "train = train._get_numeric_data()\n",
    "test = test._get_numeric_data()\n",
    "\n",
    "train = train.drop('PassengerId', 1)\n",
    "test = test.drop('PassengerId', 1)"
   ]
  },
  {
   "cell_type": "code",
   "execution_count": 161,
   "metadata": {},
   "outputs": [],
   "source": [
    "##Getting Age.\n",
    "\n",
    "train_age = train[train.notnull().all(axis = 1)]\n",
    "train_not_age = train[train.isnull().any(axis = 1)]\n",
    "test_age = test[test.notnull().all(axis = 1)]\n",
    "test_not_age = test[test.isnull().any(axis = 1)]\n",
    "\n",
    "frames1 = [train_age, test_age]\n",
    "infer_age = pd.concat(frames1)\n",
    "\n",
    "labels_age = infer_age['Age']\n",
    "infer_age = infer_age.drop('Age' , 1)\n",
    "\n",
    "numeric_headers_age = list(infer_age.columns.values)\n",
    "x = infer_age.as_matrix()\n",
    "y = labels_age.as_matrix()\n",
    "\n",
    "lr1 = sk.Lasso\n",
    "model1 = lr1().fit(x, y)\n",
    "\n",
    "train_not_age = train_not_age.drop('Age' , 1)\n",
    "test_not_age = test_not_age.drop('Age' , 1)\n",
    "\n",
    "train_predictions = model1.predict(train_not_age)\n",
    "test_predictions = model1.predict(test_not_age)"
   ]
  },
  {
   "cell_type": "code",
   "execution_count": 162,
   "metadata": {},
   "outputs": [],
   "source": [
    "##Getting data together.\n",
    "train_not_age['Age'] = pd.Series(train_predictions, index=train_not_age.index)\n",
    "test_not_age['Age'] = pd.Series(test_predictions, index=test_not_age.index)\n",
    "\n",
    "frames2 = [train_age, train_not_age]\n",
    "frames3 = [test_age, test_not_age]\n",
    "ptrain = pd.concat(frames2)\n",
    "ptest = pd.concat(frames3)"
   ]
  },
  {
   "cell_type": "code",
   "execution_count": 163,
   "metadata": {},
   "outputs": [],
   "source": [
    "##Creating Model.\n",
    "\n",
    "labels = labels.as_matrix()\n",
    "ptrain = ptrain.as_matrix()\n",
    "\n",
    "lr2 = sklearn.svm.SVC\n",
    "model2 = lr2().fit(ptrain, labels)"
   ]
  },
  {
   "cell_type": "code",
   "execution_count": 164,
   "metadata": {},
   "outputs": [],
   "source": [
    "predictions = model2.predict(ptest)"
   ]
  },
  {
   "cell_type": "code",
   "execution_count": 165,
   "metadata": {},
   "outputs": [],
   "source": [
    "result = open('My Results.txt' , 'w')"
   ]
  },
  {
   "cell_type": "code",
   "execution_count": 166,
   "metadata": {
    "collapsed": true
   },
   "outputs": [],
   "source": [
    "for i in predictions:\n",
    "    result.write(str(i)+'\\n')\n",
    "result.close()    "
   ]
  },
  {
   "cell_type": "code",
   "execution_count": 167,
   "metadata": {},
   "outputs": [
    {
     "name": "stdout",
     "output_type": "stream",
     "text": [
      "[0 1 0 0 0 0 0 0 0 0 1 1 0 0 0 0 0 0 0 0 0 0 0 0 0 0 0 0 0 1 0 0 0 0 1 1 0\n",
      " 0 0 0 0 0 0 0 0 0 0 0 0 0 0 0 0 0 0 0 0 0 0 0 0 0 0 0 0 0 0 0 0 0 1 0 0 0\n",
      " 0 0 0 0 0 0 0 0 0 0 0 0 0 0 0 0 0 0 0 0 1 0 0 0 0 0 0 0 0 0 0 0 0 0 0 0 0\n",
      " 0 1 0 0 0 0 0 0 0 1 0 0 1 0 0 0 0 0 0 0 0 0 0 0 0 0 0 0 1 0 0 0 0 0 0 0 0\n",
      " 0 0 0 1 1 0 0 0 0 0 0 0 0 0 0 0 0 0 1 0 0 0 1 0 0 0 0 0 0 0 0 0 0 0 0 0 0\n",
      " 0 1 0 0 0 1 1 0 0 0 0 0 0 0 0 0 0 0 0 0 0 0 0 0 0 0 0 0 0 0 0 0 0 0 0 0 0\n",
      " 0 0 0 1 0 0 0 0 0 0 0 0 0 0 0 0 0 0 0 0 0 0 0 0 1 0 0 0 0 0 0 1 0 0 0 0 0\n",
      " 0 0 0 0 0 0 0 0 1 0 0 0 0 0 1 0 0 0 0 0 0 0 0 0 1 0 0 0 0 0 0 0 0 0 0 1 0\n",
      " 0 0 0 0 0 0 0 0 1 0 0 0 0 0 0 0 0 0 0 0 0 0 0 0 0 0 0 0 0 0 0 0 0 0 0 1 0\n",
      " 0 0 0 0 0 0 0 0 0 0 0 0 0 0 0 0 0 0 0 0 0 0 0 0 0 0 0 0 0 0 0 0 0 0 0 0 1\n",
      " 0 0 0 0 0 0 0 0 0 0 0 0 0 0 0 0 0 0 0 0 0 0 0 0 0 0 0 0 0 0 0 0 0 0 0 0 0\n",
      " 0 0 0 0 0 0 0 0 0 0 0]\n"
     ]
    }
   ],
   "source": [
    "print(predictions)"
   ]
  },
  {
   "cell_type": "code",
   "execution_count": null,
   "metadata": {
    "collapsed": true
   },
   "outputs": [],
   "source": []
  }
 ],
 "metadata": {
  "anaconda-cloud": {},
  "kernelspec": {
   "display_name": "Python 3",
   "language": "python",
   "name": "python3"
  },
  "language_info": {
   "codemirror_mode": {
    "name": "ipython",
    "version": 3
   },
   "file_extension": ".py",
   "mimetype": "text/x-python",
   "name": "python",
   "nbconvert_exporter": "python",
   "pygments_lexer": "ipython3",
   "version": "3.6.2"
  }
 },
 "nbformat": 4,
 "nbformat_minor": 1
}
